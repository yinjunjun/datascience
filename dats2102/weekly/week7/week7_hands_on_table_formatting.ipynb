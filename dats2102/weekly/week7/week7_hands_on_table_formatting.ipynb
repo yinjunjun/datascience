{
 "cells": [
  {
   "cell_type": "markdown",
   "id": "aada97e9-3a0b-4bc3-911e-cde3c2c845f9",
   "metadata": {},
   "source": [
    "**Set up the libraries**"
   ]
  },
  {
   "cell_type": "code",
   "execution_count": null,
   "id": "467e8a34-7fe3-450c-a4e0-0aa922ce64c5",
   "metadata": {},
   "outputs": [],
   "source": [
    "import pandas as pd"
   ]
  },
  {
   "cell_type": "markdown",
   "id": "24e7f62f-cffe-44f3-b199-057bf35d1f38",
   "metadata": {},
   "source": [
    "**Creating a table using Pandas dataframe**"
   ]
  },
  {
   "cell_type": "code",
   "execution_count": 17,
   "id": "50ea3fc4-ef2f-406d-bd1a-7218bd74aa94",
   "metadata": {},
   "outputs": [
    {
     "data": {
      "text/html": [
       "<div>\n",
       "<style scoped>\n",
       "    .dataframe tbody tr th:only-of-type {\n",
       "        vertical-align: middle;\n",
       "    }\n",
       "\n",
       "    .dataframe tbody tr th {\n",
       "        vertical-align: top;\n",
       "    }\n",
       "\n",
       "    .dataframe thead th {\n",
       "        text-align: right;\n",
       "    }\n",
       "</style>\n",
       "<table border=\"1\" class=\"dataframe\">\n",
       "  <thead>\n",
       "    <tr style=\"text-align: right;\">\n",
       "      <th></th>\n",
       "      <th>Region</th>\n",
       "      <th>2023</th>\n",
       "      <th>2024</th>\n",
       "      <th>delta</th>\n",
       "      <th>pct</th>\n",
       "    </tr>\n",
       "  </thead>\n",
       "  <tbody>\n",
       "    <tr>\n",
       "      <th>0</th>\n",
       "      <td>Northeast</td>\n",
       "      <td>12530000</td>\n",
       "      <td>13480000</td>\n",
       "      <td>950000</td>\n",
       "      <td>0.075818</td>\n",
       "    </tr>\n",
       "    <tr>\n",
       "      <th>1</th>\n",
       "      <td>Midwest</td>\n",
       "      <td>9820000</td>\n",
       "      <td>10050000</td>\n",
       "      <td>230000</td>\n",
       "      <td>0.023422</td>\n",
       "    </tr>\n",
       "    <tr>\n",
       "      <th>2</th>\n",
       "      <td>South</td>\n",
       "      <td>14200000</td>\n",
       "      <td>15120000</td>\n",
       "      <td>920000</td>\n",
       "      <td>0.064789</td>\n",
       "    </tr>\n",
       "    <tr>\n",
       "      <th>3</th>\n",
       "      <td>West</td>\n",
       "      <td>11340000</td>\n",
       "      <td>12310000</td>\n",
       "      <td>970000</td>\n",
       "      <td>0.085538</td>\n",
       "    </tr>\n",
       "  </tbody>\n",
       "</table>\n",
       "</div>"
      ],
      "text/plain": [
       "      Region      2023      2024   delta       pct\n",
       "0  Northeast  12530000  13480000  950000  0.075818\n",
       "1    Midwest   9820000  10050000  230000  0.023422\n",
       "2      South  14200000  15120000  920000  0.064789\n",
       "3       West  11340000  12310000  970000  0.085538"
      ]
     },
     "execution_count": 17,
     "metadata": {},
     "output_type": "execute_result"
    }
   ],
   "source": [
    "df = pd.DataFrame({\n",
    "    'Region':['Northeast','Midwest','South','West'],\n",
    "    '2023':[12530000, 9820000, 14200000, 11340000],\n",
    "    '2024':[13480000, 10050000, 15120000, 12310000]\n",
    "})\n",
    "df['delta']=df['2024']-df['2023']\n",
    "df['pct']=df['delta']/df['2023']\n",
    "df"
   ]
  },
  {
   "cell_type": "markdown",
   "id": "aadd42f2-4c9d-4f0a-ab97-56ec830d9ef5",
   "metadata": {},
   "source": [
    "**Format/Style the table with numbers, alignment, and decimal numbers**"
   ]
  },
  {
   "cell_type": "code",
   "execution_count": 1,
   "id": "d00d723a-4b2c-49bb-aae7-c66c7a6c450a",
   "metadata": {},
   "outputs": [
    {
     "data": {
      "text/html": [
       "<style type=\"text/css\">\n",
       "#T_1f752 th {\n",
       "  text-align: center;\n",
       "}\n",
       "#T_1f752 td {\n",
       "  text-align: right;\n",
       "}\n",
       "</style>\n",
       "<table id=\"T_1f752\">\n",
       "  <caption>Regional Sales, 2023–2024</caption>\n",
       "  <thead>\n",
       "    <tr>\n",
       "      <th class=\"blank level0\" >&nbsp;</th>\n",
       "      <th id=\"T_1f752_level0_col0\" class=\"col_heading level0 col0\" >Region</th>\n",
       "      <th id=\"T_1f752_level0_col1\" class=\"col_heading level0 col1\" >2023</th>\n",
       "      <th id=\"T_1f752_level0_col2\" class=\"col_heading level0 col2\" >2024</th>\n",
       "      <th id=\"T_1f752_level0_col3\" class=\"col_heading level0 col3\" >Δ</th>\n",
       "      <th id=\"T_1f752_level0_col4\" class=\"col_heading level0 col4\" >% Change</th>\n",
       "    </tr>\n",
       "  </thead>\n",
       "  <tbody>\n",
       "    <tr>\n",
       "      <th id=\"T_1f752_level0_row0\" class=\"row_heading level0 row0\" >0</th>\n",
       "      <td id=\"T_1f752_row0_col0\" class=\"data row0 col0\" >South</td>\n",
       "      <td id=\"T_1f752_row0_col1\" class=\"data row0 col1\" >14,200,000</td>\n",
       "      <td id=\"T_1f752_row0_col2\" class=\"data row0 col2\" >15,120,000</td>\n",
       "      <td id=\"T_1f752_row0_col3\" class=\"data row0 col3\" >+920,000</td>\n",
       "      <td id=\"T_1f752_row0_col4\" class=\"data row0 col4\" >+6.5%</td>\n",
       "    </tr>\n",
       "    <tr>\n",
       "      <th id=\"T_1f752_level0_row1\" class=\"row_heading level0 row1\" >1</th>\n",
       "      <td id=\"T_1f752_row1_col0\" class=\"data row1 col0\" >Northeast</td>\n",
       "      <td id=\"T_1f752_row1_col1\" class=\"data row1 col1\" >12,530,000</td>\n",
       "      <td id=\"T_1f752_row1_col2\" class=\"data row1 col2\" >13,480,000</td>\n",
       "      <td id=\"T_1f752_row1_col3\" class=\"data row1 col3\" >+950,000</td>\n",
       "      <td id=\"T_1f752_row1_col4\" class=\"data row1 col4\" >+7.6%</td>\n",
       "    </tr>\n",
       "    <tr>\n",
       "      <th id=\"T_1f752_level0_row2\" class=\"row_heading level0 row2\" >2</th>\n",
       "      <td id=\"T_1f752_row2_col0\" class=\"data row2 col0\" >West</td>\n",
       "      <td id=\"T_1f752_row2_col1\" class=\"data row2 col1\" >11,340,000</td>\n",
       "      <td id=\"T_1f752_row2_col2\" class=\"data row2 col2\" >12,310,000</td>\n",
       "      <td id=\"T_1f752_row2_col3\" class=\"data row2 col3\" >+970,000</td>\n",
       "      <td id=\"T_1f752_row2_col4\" class=\"data row2 col4\" >+8.6%</td>\n",
       "    </tr>\n",
       "    <tr>\n",
       "      <th id=\"T_1f752_level0_row3\" class=\"row_heading level0 row3\" >3</th>\n",
       "      <td id=\"T_1f752_row3_col0\" class=\"data row3 col0\" >Midwest</td>\n",
       "      <td id=\"T_1f752_row3_col1\" class=\"data row3 col1\" >9,820,000</td>\n",
       "      <td id=\"T_1f752_row3_col2\" class=\"data row3 col2\" >10,050,000</td>\n",
       "      <td id=\"T_1f752_row3_col3\" class=\"data row3 col3\" >+230,000</td>\n",
       "      <td id=\"T_1f752_row3_col4\" class=\"data row3 col4\" >+2.3%</td>\n",
       "    </tr>\n",
       "  </tbody>\n",
       "</table>\n"
      ],
      "text/plain": [
       "<pandas.io.formats.style.Styler at 0x11b7b1820>"
      ]
     },
     "execution_count": 1,
     "metadata": {},
     "output_type": "execute_result"
    }
   ],
   "source": [
    "df = pd.DataFrame({\n",
    "    'Region':['Northeast','Midwest','South','West'],\n",
    "    '2023':[12_530_000, 9_820_000, 14_200_000, 11_340_000],\n",
    "    '2024':[13_480_000, 10_050_000, 15_120_000, 12_310_000]\n",
    "})\n",
    "df['Δ'] = df['2024'] - df['2023']\n",
    "df['% Change'] = df['Δ'] / df['2023']\n",
    "df = df.sort_values('2024', ascending=False).reset_index(drop=True)\n",
    "styled = (\n",
    "    df.style\n",
    "    .format({'2023':'{:,.0f}', '2024':'{:,.0f}', 'Δ':'{:+,.0f}', '% Change':'{:+.1%}'})\n",
    "    .set_caption('Regional Sales, 2023–2024')\n",
    "    .set_table_styles([\n",
    "        {\"selector\":\"th\", \"props\":[(\"text-align\",\"center\")]},\n",
    "        {\"selector\":\"td\", \"props\":[(\"text-align\",\"right\")]}\n",
    "    ])\n",
    ")\n",
    "styled"
   ]
  },
  {
   "cell_type": "markdown",
   "id": "7d6ba889-58ab-4c69-a826-8e0a787091dd",
   "metadata": {},
   "source": [
    "**Use Unicode  for special characters, e.g., '\\u0394' for Δ and  '\\u03b1' for α**"
   ]
  },
  {
   "cell_type": "code",
   "execution_count": 5,
   "id": "1b9c0113-eb02-4b20-bf3c-f005f55545c5",
   "metadata": {},
   "outputs": [
    {
     "name": "stdout",
     "output_type": "stream",
     "text": [
      "      Region      2023      2024       α  % Change\n",
      "0      South  14200000  15120000  920000  0.064789\n",
      "1  Northeast  12530000  13480000  950000  0.075818\n",
      "2       West  11340000  12310000  970000  0.085538\n",
      "3    Midwest   9820000  10050000  230000  0.023422\n"
     ]
    },
    {
     "data": {
      "text/html": [
       "<style type=\"text/css\">\n",
       "#T_78f4f th {\n",
       "  text-align: center;\n",
       "}\n",
       "#T_78f4f td {\n",
       "  text-align: right;\n",
       "}\n",
       "</style>\n",
       "<table id=\"T_78f4f\">\n",
       "  <caption>Regional Sales, 2023–2024</caption>\n",
       "  <thead>\n",
       "    <tr>\n",
       "      <th class=\"blank level0\" >&nbsp;</th>\n",
       "      <th id=\"T_78f4f_level0_col0\" class=\"col_heading level0 col0\" >Region</th>\n",
       "      <th id=\"T_78f4f_level0_col1\" class=\"col_heading level0 col1\" >2023</th>\n",
       "      <th id=\"T_78f4f_level0_col2\" class=\"col_heading level0 col2\" >2024</th>\n",
       "      <th id=\"T_78f4f_level0_col3\" class=\"col_heading level0 col3\" >α</th>\n",
       "      <th id=\"T_78f4f_level0_col4\" class=\"col_heading level0 col4\" >% Change</th>\n",
       "    </tr>\n",
       "  </thead>\n",
       "  <tbody>\n",
       "    <tr>\n",
       "      <th id=\"T_78f4f_level0_row0\" class=\"row_heading level0 row0\" >0</th>\n",
       "      <td id=\"T_78f4f_row0_col0\" class=\"data row0 col0\" >South</td>\n",
       "      <td id=\"T_78f4f_row0_col1\" class=\"data row0 col1\" >14,200,000</td>\n",
       "      <td id=\"T_78f4f_row0_col2\" class=\"data row0 col2\" >15,120,000</td>\n",
       "      <td id=\"T_78f4f_row0_col3\" class=\"data row0 col3\" >920000</td>\n",
       "      <td id=\"T_78f4f_row0_col4\" class=\"data row0 col4\" >+6.5%</td>\n",
       "    </tr>\n",
       "    <tr>\n",
       "      <th id=\"T_78f4f_level0_row1\" class=\"row_heading level0 row1\" >1</th>\n",
       "      <td id=\"T_78f4f_row1_col0\" class=\"data row1 col0\" >Northeast</td>\n",
       "      <td id=\"T_78f4f_row1_col1\" class=\"data row1 col1\" >12,530,000</td>\n",
       "      <td id=\"T_78f4f_row1_col2\" class=\"data row1 col2\" >13,480,000</td>\n",
       "      <td id=\"T_78f4f_row1_col3\" class=\"data row1 col3\" >950000</td>\n",
       "      <td id=\"T_78f4f_row1_col4\" class=\"data row1 col4\" >+7.6%</td>\n",
       "    </tr>\n",
       "    <tr>\n",
       "      <th id=\"T_78f4f_level0_row2\" class=\"row_heading level0 row2\" >2</th>\n",
       "      <td id=\"T_78f4f_row2_col0\" class=\"data row2 col0\" >West</td>\n",
       "      <td id=\"T_78f4f_row2_col1\" class=\"data row2 col1\" >11,340,000</td>\n",
       "      <td id=\"T_78f4f_row2_col2\" class=\"data row2 col2\" >12,310,000</td>\n",
       "      <td id=\"T_78f4f_row2_col3\" class=\"data row2 col3\" >970000</td>\n",
       "      <td id=\"T_78f4f_row2_col4\" class=\"data row2 col4\" >+8.6%</td>\n",
       "    </tr>\n",
       "    <tr>\n",
       "      <th id=\"T_78f4f_level0_row3\" class=\"row_heading level0 row3\" >3</th>\n",
       "      <td id=\"T_78f4f_row3_col0\" class=\"data row3 col0\" >Midwest</td>\n",
       "      <td id=\"T_78f4f_row3_col1\" class=\"data row3 col1\" >9,820,000</td>\n",
       "      <td id=\"T_78f4f_row3_col2\" class=\"data row3 col2\" >10,050,000</td>\n",
       "      <td id=\"T_78f4f_row3_col3\" class=\"data row3 col3\" >230000</td>\n",
       "      <td id=\"T_78f4f_row3_col4\" class=\"data row3 col4\" >+2.3%</td>\n",
       "    </tr>\n",
       "  </tbody>\n",
       "</table>\n"
      ],
      "text/plain": [
       "<pandas.io.formats.style.Styler at 0x10c25f980>"
      ]
     },
     "execution_count": 5,
     "metadata": {},
     "output_type": "execute_result"
    }
   ],
   "source": [
    "import pandas as pd\n",
    "df = pd.DataFrame({\n",
    "    'Region':['Northeast','Midwest','South','West'],\n",
    "    '2023':[12_530_000, 9_820_000, 14_200_000, 11_340_000],\n",
    "    '2024':[13_480_000, 10_050_000, 15_120_000, 12_310_000]\n",
    "})\n",
    "\n",
    "\n",
    "df['\\u03b1'] = df['2024'] - df['2023']\n",
    "df['% Change'] = df['\\u03b1'] / df['2023']\n",
    "df = df.sort_values('2024', ascending=False).reset_index(drop=True)\n",
    "\n",
    "##Take a look at the table before styling\n",
    "print(df.head())\n",
    "styled = (\n",
    "    df.style\n",
    "    .format({'2023':'{:,.0f}', '2024':'{:,.0f}', r'\\u03b1':'{:+,.0f}', '% Change':'{:+.1%}'})\n",
    "    .set_caption('Regional Sales, 2023–2024')\n",
    "    .set_table_styles([\n",
    "        {\"selector\":\"th\", \"props\":[(\"text-align\",\"center\")]},\n",
    "        {\"selector\":\"td\", \"props\":[(\"text-align\",\"right\")]}\n",
    "    ])\n",
    ")\n",
    "styled"
   ]
  },
  {
   "cell_type": "markdown",
   "id": "7bdbb25c-03a0-45ed-bfee-51bfd219dd26",
   "metadata": {},
   "source": [
    "**Finally, We can apply different color for light zebra stripping effects on different table rows**"
   ]
  },
  {
   "cell_type": "code",
   "execution_count": 13,
   "id": "87d84e5c-3882-4f39-bd4b-b73fb9acb799",
   "metadata": {},
   "outputs": [
    {
     "data": {
      "text/html": [
       "<style type=\"text/css\">\n",
       "#T_0dd2b th {\n",
       "  text-align: center;\n",
       "}\n",
       "#T_0dd2b td {\n",
       "  text-align: right;\n",
       "}\n",
       "#T_0dd2b tbody tr:nth-child(even) {\n",
       "  background-color: green;\n",
       "}\n",
       "#T_0dd2b tbody tr:nth-child(odd) {\n",
       "  background-color: rgba(255, 255, 0, 0.8);\n",
       "}\n",
       "</style>\n",
       "<table id=\"T_0dd2b\">\n",
       "  <caption>Regional Sales, 2023–2024</caption>\n",
       "  <thead>\n",
       "    <tr>\n",
       "      <th class=\"blank level0\" >&nbsp;</th>\n",
       "      <th id=\"T_0dd2b_level0_col0\" class=\"col_heading level0 col0\" >Region</th>\n",
       "      <th id=\"T_0dd2b_level0_col1\" class=\"col_heading level0 col1\" >2023</th>\n",
       "      <th id=\"T_0dd2b_level0_col2\" class=\"col_heading level0 col2\" >2024</th>\n",
       "      <th id=\"T_0dd2b_level0_col3\" class=\"col_heading level0 col3\" >Δ</th>\n",
       "      <th id=\"T_0dd2b_level0_col4\" class=\"col_heading level0 col4\" >% Change</th>\n",
       "    </tr>\n",
       "  </thead>\n",
       "  <tbody>\n",
       "    <tr>\n",
       "      <th id=\"T_0dd2b_level0_row0\" class=\"row_heading level0 row0\" >0</th>\n",
       "      <td id=\"T_0dd2b_row0_col0\" class=\"data row0 col0\" >South</td>\n",
       "      <td id=\"T_0dd2b_row0_col1\" class=\"data row0 col1\" >14,200,000</td>\n",
       "      <td id=\"T_0dd2b_row0_col2\" class=\"data row0 col2\" >15,120,000</td>\n",
       "      <td id=\"T_0dd2b_row0_col3\" class=\"data row0 col3\" >920000</td>\n",
       "      <td id=\"T_0dd2b_row0_col4\" class=\"data row0 col4\" >+6.5%</td>\n",
       "    </tr>\n",
       "    <tr>\n",
       "      <th id=\"T_0dd2b_level0_row1\" class=\"row_heading level0 row1\" >1</th>\n",
       "      <td id=\"T_0dd2b_row1_col0\" class=\"data row1 col0\" >Northeast</td>\n",
       "      <td id=\"T_0dd2b_row1_col1\" class=\"data row1 col1\" >12,530,000</td>\n",
       "      <td id=\"T_0dd2b_row1_col2\" class=\"data row1 col2\" >13,480,000</td>\n",
       "      <td id=\"T_0dd2b_row1_col3\" class=\"data row1 col3\" >950000</td>\n",
       "      <td id=\"T_0dd2b_row1_col4\" class=\"data row1 col4\" >+7.6%</td>\n",
       "    </tr>\n",
       "    <tr>\n",
       "      <th id=\"T_0dd2b_level0_row2\" class=\"row_heading level0 row2\" >2</th>\n",
       "      <td id=\"T_0dd2b_row2_col0\" class=\"data row2 col0\" >West</td>\n",
       "      <td id=\"T_0dd2b_row2_col1\" class=\"data row2 col1\" >11,340,000</td>\n",
       "      <td id=\"T_0dd2b_row2_col2\" class=\"data row2 col2\" >12,310,000</td>\n",
       "      <td id=\"T_0dd2b_row2_col3\" class=\"data row2 col3\" >970000</td>\n",
       "      <td id=\"T_0dd2b_row2_col4\" class=\"data row2 col4\" >+8.6%</td>\n",
       "    </tr>\n",
       "    <tr>\n",
       "      <th id=\"T_0dd2b_level0_row3\" class=\"row_heading level0 row3\" >3</th>\n",
       "      <td id=\"T_0dd2b_row3_col0\" class=\"data row3 col0\" >Midwest</td>\n",
       "      <td id=\"T_0dd2b_row3_col1\" class=\"data row3 col1\" >9,820,000</td>\n",
       "      <td id=\"T_0dd2b_row3_col2\" class=\"data row3 col2\" >10,050,000</td>\n",
       "      <td id=\"T_0dd2b_row3_col3\" class=\"data row3 col3\" >230000</td>\n",
       "      <td id=\"T_0dd2b_row3_col4\" class=\"data row3 col4\" >+2.3%</td>\n",
       "    </tr>\n",
       "  </tbody>\n",
       "</table>\n"
      ],
      "text/plain": [
       "<pandas.io.formats.style.Styler at 0x10c296180>"
      ]
     },
     "execution_count": 13,
     "metadata": {},
     "output_type": "execute_result"
    }
   ],
   "source": [
    "import pandas as pd\n",
    "df = pd.DataFrame({\n",
    "    'Region':['Northeast','Midwest','South','West'],\n",
    "    '2023':[12_530_000, 9_820_000, 14_200_000, 11_340_000],\n",
    "    '2024':[13_480_000, 10_050_000, 15_120_000, 12_310_000]\n",
    "})\n",
    "\n",
    "\n",
    "df['\\u0394'] = df['2024'] - df['2023']\n",
    "df['% Change'] = df['\\u0394'] / df['2023']\n",
    "df = df.sort_values('2024', ascending=False).reset_index(drop=True)\n",
    "\n",
    "styled = (\n",
    "    df.style\n",
    "    .format({'2023':'{:,.0f}', '2024':'{:,.0f}', r'\\u03b1':'{:+,.0f}', '% Change':'{:+.1%}'})\n",
    "    .set_caption('Regional Sales, 2023–2024')\n",
    "    .set_table_styles([\n",
    "        {\"selector\":\"th\", \"props\":[(\"text-align\",\"center\")]},\n",
    "        {\"selector\":\"td\", \"props\":[(\"text-align\",\"right\")]},\n",
    "        {\"selector\":\"tbody tr:nth-child(even)\", \"props\":[(\"background-color\", \"green\")]},\n",
    "        ## you can apply color with transparency here.\n",
    "        {\"selector\":\"tbody tr:nth-child(odd)\",  \"props\":[(\"background-color\", \"rgba(255, 255, 0, 0.8)\")]}\n",
    "    ])\n",
    ")\n",
    "styled"
   ]
  }
 ],
 "metadata": {
  "kernelspec": {
   "display_name": "dataviz",
   "language": "python",
   "name": "dataviz"
  },
  "language_info": {
   "codemirror_mode": {
    "name": "ipython",
    "version": 3
   },
   "file_extension": ".py",
   "mimetype": "text/x-python",
   "name": "python",
   "nbconvert_exporter": "python",
   "pygments_lexer": "ipython3",
   "version": "3.12.11"
  }
 },
 "nbformat": 4,
 "nbformat_minor": 5
}
