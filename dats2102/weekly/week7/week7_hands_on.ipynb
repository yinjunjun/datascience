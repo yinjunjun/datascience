{
 "cells": [
  {
   "cell_type": "markdown",
   "id": "a35ca182",
   "metadata": {},
   "source": [
    "# Week 7 — Text, Labels, & Tables (Illustration)\n",
    "*DATS 2102: Data Visualization*\n",
    "\n",
    "Goals:\n",
    "- Practice **direct labeling** instead of legends.\n",
    "- Add **annotations** (callouts, arrows) and **target bands**.\n",
    "- Format a **companion table** for precision and readability.\n",
    "\n",
    "**Rule for charts in this notebook:** Use **matplotlib**, one chart per cell, and do **not** set custom colors."
   ]
  },
  {
   "cell_type": "code",
   "execution_count": null,
   "id": "a4cc4e29",
   "metadata": {},
   "outputs": [],
   "source": [
    "import numpy as np\n",
    "import pandas as pd\n",
    "import matplotlib.pyplot as plt\n",
    "np.random.seed(42)\n",
    "plt.rcParams['figure.figsize'] = (6,4)\n",
    "plt.rcParams['axes.spines.top'] = False\n",
    "plt.rcParams['axes.spines.right'] = False"
   ]
  },
  {
   "cell_type": "markdown",
   "id": "ad121d4a",
   "metadata": {},
   "source": [
    "## 1) Direct labels on a line chart"
   ]
  },
  {
   "cell_type": "code",
   "execution_count": null,
   "id": "72c43d50",
   "metadata": {},
   "outputs": [],
   "source": [
    "x = np.arange(2018, 2025)\n",
    "A = np.array([12, 14, 13, 15, 18, 21, 24])\n",
    "B = np.array([11, 10, 12, 13, 13, 14, 16])\n",
    "fig, ax = plt.subplots()\n",
    "ax.plot(x, A, marker='o')\n",
    "ax.plot(x, B, marker='*')\n",
    "ax.text(x[-1] + 0.1, A[-1], 'Product A', va='center')\n",
    "ax.text(x[-1] + 0.1, B[-1], 'Product B', va='center')\n",
    "ax.set_xlim(x[0], x[-1] + 1)\n",
    "ax.set_title('Revenue by Product, 2018–2024')\n",
    "ax.set_xlabel('Year')\n",
    "ax.set_ylabel('Revenue (USD, millions)')\n",
    "plt.tight_layout()\n",
    "plt.show()"
   ]
  },
  {
   "cell_type": "markdown",
   "id": "70d77f88",
   "metadata": {},
   "source": [
    "## 2) Horizontal bars with value labels (legend-free)"
   ]
  },
  {
   "cell_type": "code",
   "execution_count": null,
   "id": "959f0313",
   "metadata": {},
   "outputs": [],
   "source": [
    "labels = ['A','B','C','D','E']\n",
    "values = np.array([35, 18, 28, 22, 12])\n",
    "order = np.argsort(values)\n",
    "fig, ax = plt.subplots()\n",
    "y = np.arange(len(labels))\n",
    "ax.barh(y, values[order])\n",
    "\n",
    "for i, v in enumerate(values[order]):\n",
    "    ax.text(v + 0.5, i, f'{v}', va='center')\n",
    "\n",
    "ax.set_yticks(y)\n",
    "ax.set_yticklabels(np.array(labels)[order])\n",
    "ax.set_xlabel('Value')\n",
    "ax.set_title('Ranking with direct labels')\n",
    "plt.tight_layout()\n",
    "plt.show()"
   ]
  },
  {
   "cell_type": "markdown",
   "id": "4ad8893a",
   "metadata": {},
   "source": [
    "## 3) Callout + target band (annotation toolkit)"
   ]
  },
  {
   "cell_type": "code",
   "execution_count": null,
   "id": "d20dc6a7",
   "metadata": {},
   "outputs": [],
   "source": [
    "np.random.seed(0)\n",
    "x = np.arange(1, 13)\n",
    "y = np.cumsum(np.random.randn(12)) + 10\n",
    "fig, ax = plt.subplots()\n",
    "ax.plot(x, y, marker='o')\n",
    "ax.axhspan(10, 12, alpha=0.15)\n",
    "# ax.axhspan(10, 12, 0, 0.5, alpha=0.15)\n",
    "\n",
    "ax.text(12.2, 11, 'Target band', va='center')\n",
    "i_max = int(np.argmax(y))\n",
    "ax.annotate('Local peak', xy=(x[i_max], y[i_max]),\n",
    "            xytext=(x[i_max] + 0.8, y[i_max] + 1.5),\n",
    "            arrowprops=dict(arrowstyle='->', lw=1))\n",
    "ax.set_title('Progress vs Target (Monthly)')\n",
    "ax.set_xlabel('Month')\n",
    "ax.set_ylabel('Score')\n",
    "plt.tight_layout()\n",
    "plt.show()"
   ]
  },
  {
   "cell_type": "code",
   "execution_count": null,
   "id": "6b9081b2",
   "metadata": {},
   "outputs": [],
   "source": [
    "import numpy as np, matplotlib.pyplot as plt\n",
    "\n",
    "x = np.linspace(0, 2*np.pi, 200)\n",
    "y = np.sin(x)\n",
    "\n",
    "fig, ax = plt.subplots(figsize=(9,6))\n",
    "ax.plot(x, y)\n",
    "\n",
    "# π label on the x-axis\n",
    "ax.text(np.pi, -1.15, r'$\\pi$', ha='center', va='top')\n",
    "\n",
    "# E = m c^2 callout with an arrow\n",
    "ax.annotate(r'$E = m c^2$',\n",
    "            xy=(np.pi/2, 1),                # point to annotate\n",
    "            xytext=(np.pi/2, 1.2),      # text position\n",
    "            arrowprops=dict(arrowstyle='->', lw=1),\n",
    "            bbox=dict(boxstyle='round,pad=0.2', fc='w', ec='0.8'))\n",
    "\n",
    "# Title mixing text and math\n",
    "ax.set_title(r'Sine wave: $y = \\sin(x)$')\n",
    "\n",
    "ax.set_xlabel('x')\n",
    "ax.set_ylabel('Amplitude')\n",
    "\n",
    "ax.set_title(r'Normal PDF: $\\mu=0,\\ \\sigma=1$')\n",
    "ax.set_xlabel(r'$t$ (s)')\n",
    "ax.set_ylabel(r'Acceleration $a\\ ( \\mathrm{m\\,s^{-2}} )$')\n",
    "ax.plot(x, y, label=r'$\\sin(x)$')\n",
    "ax.legend()\n",
    "\n",
    "# # Inline pi approximations\n",
    "# ax.text(0.1, 0.9, r'$\\pi \\approx 3.14159$', transform=ax.transAxes)\n",
    "\n",
    "# # Superscripts & subscripts\n",
    "# ax.text(0.1, 0.8, r'$x_i^2 + y_j^2$', transform=ax.transAxes)\n",
    "\n",
    "# # Scientific notation with units (upright)\n",
    "# ax.text(0.1, 0.7, r'$1.2\\times10^{3}\\ \\mathrm{kg\\,m\\,s^{-2}}$', transform=ax.transAxes)\n",
    "\n",
    "# # Multiplication dot (instead of 'x')\n",
    "# ax.text(0.1, 0.6, r'$E = m \\cdot c^2$', transform=ax.transAxes)\n",
    "\n",
    "\n",
    "plt.tight_layout()\n",
    "plt.show()\n"
   ]
  },
  {
   "cell_type": "markdown",
   "id": "e3e535c9",
   "metadata": {},
   "source": [
    "## 4) Label collision strategy (cluster/centroid labeling)"
   ]
  },
  {
   "cell_type": "code",
   "execution_count": null,
   "id": "4c7e33e7",
   "metadata": {},
   "outputs": [],
   "source": [
    "rng = np.random.default_rng(0)\n",
    "A = rng.normal(loc=(50, 1500), scale=(4, 80), size=(40, 2))\n",
    "B = rng.normal(loc=(55, 1700), scale=(4, 80), size=(40, 2))\n",
    "C = rng.normal(loc=(60, 1900), scale=(4, 80), size=(40, 2))\n",
    "\n",
    "fig, ax = plt.subplots()\n",
    "ax.scatter(A[:,0], A[:,1], s=10)\n",
    "ax.scatter(B[:,0], B[:,1], s=10)\n",
    "ax.scatter(C[:,0], C[:,1], s=10)\n",
    "\n",
    "centroids = [A.mean(axis=0), B.mean(axis=0), C.mean(axis=0)]\n",
    "for i, (cx, cy) in enumerate(centroids, start=1):\n",
    "    ax.text(cx + 0.8, cy, f'Cluster {i} (avg)')\n",
    "ax.set_title('Avoid over-labeling: label clusters')\n",
    "ax.set_xlabel('X metric'); ax.set_ylabel('Y metric')\n",
    "\n",
    "plt.tight_layout()\n",
    "plt.show()"
   ]
  },
  {
   "cell_type": "markdown",
   "id": "c322dd36",
   "metadata": {},
   "source": [
    "## 5) Companion table (alignment, consistency, deltas)"
   ]
  },
  {
   "cell_type": "code",
   "execution_count": null,
   "id": "f5af48f0",
   "metadata": {},
   "outputs": [],
   "source": [
    "sales = pd.DataFrame({\n",
    "    'Region':['Northeast','Midwest','South','West'],\n",
    "    '2023':[12_530_000, 9_820_000, 14_200_000, 11_340_000],\n",
    "    '2024':[13_480_000, 10_050_000, 15_120_000, 12_310_000]\n",
    "})\n",
    "sales['Δ'] = sales['2024'] - sales['2023']\n",
    "sales['% Change'] = sales['Δ'] / sales['2023']\n",
    "sales = sales.sort_values('2024', ascending=False).reset_index(drop=True)\n",
    "sales"
   ]
  },
  {
   "cell_type": "code",
   "execution_count": null,
   "id": "7eac4382",
   "metadata": {},
   "outputs": [],
   "source": [
    "styled = (\n",
    "    sales.style\n",
    "    .format({'2023': '{:,.0f}', '2024': '{:,.0f}', 'Δ': '{:+,.0f}', '% Change': '{:+.1%}'})\n",
    "    .set_caption('Regional Sales Summary')\n",
    "    .set_table_styles([\n",
    "        {\"selector\": \"th\", \"props\": [(\"text-align\",\"center\")]}, ##header cells\n",
    "        {\"selector\": \"td\", \"props\": [(\"text-align\",\"right\")]}]) ##data cells\n",
    ")\n",
    "styled"
   ]
  },
  {
   "cell_type": "markdown",
   "id": "b96adb53",
   "metadata": {},
   "source": [
    "## 6) Exporting a figure with a source footer"
   ]
  },
  {
   "cell_type": "code",
   "execution_count": null,
   "id": "f011639c",
   "metadata": {},
   "outputs": [],
   "source": [
    "fig, ax = plt.subplots()\n",
    "ax.bar(['Q1','Q2','Q3','Q4'], [10, 13, 12, 15])\n",
    "ax.set_title('Quarterly Output, 2024')\n",
    "ax.set_ylabel('Units')\n",
    "fig.text(0.99, 0.01, 'Source: Example Co., 2024', ha='right', va='bottom')\n",
    "out = 'week7_bar_with_source.png'\n",
    "plt.tight_layout(); \n",
    "plt.savefig(out, dpi=200); \n",
    "plt.show()\n",
    "print('Saved:', out)"
   ]
  },
  {
   "cell_type": "markdown",
   "id": "2218b219",
   "metadata": {},
   "source": [
    "## 7) Bad → Good Makeovers\n",
    "Practical before/after examples focusing on titles, labels, annotations, and tables.\n",
    "**Rule reminder:** one chart per cell; no custom colors; matplotlib only."
   ]
  },
  {
   "cell_type": "markdown",
   "id": "d886ba0a",
   "metadata": {},
   "source": [
    "### 7.1 Bars — From legend soup to direct labels (**Bad**)"
   ]
  },
  {
   "cell_type": "code",
   "execution_count": null,
   "id": "19ba612d",
   "metadata": {},
   "outputs": [],
   "source": [
    "import numpy as np, matplotlib.pyplot as plt\n",
    "labels = ['North', 'South', 'East', 'West']\n",
    "values = [12530, 14200, 11340, 13480]\n",
    "fig, ax = plt.subplots()\n",
    "y = np.arange(len(labels))\n",
    "ax.barh(y, values, label='2024')\n",
    "ax.legend(loc='upper right')\n",
    "ax.set_title('Sales')\n",
    "ax.set_yticks(y)\n",
    "ax.set_yticklabels(labels)\n",
    "plt.show()"
   ]
  },
  {
   "cell_type": "markdown",
   "id": "2f028635",
   "metadata": {},
   "source": [
    "**Fixes:** message-first title, sort for scanning, direct value labels, unit in axis, remove legend. (**Good**)"
   ]
  },
  {
   "cell_type": "code",
   "execution_count": null,
   "id": "f245bd7b",
   "metadata": {},
   "outputs": [],
   "source": [
    "import numpy as np, matplotlib.pyplot as plt\n",
    "labels = ['North', 'South', 'East', 'West']\n",
    "values = [12530, 14200, 11340, 13480]\n",
    "order = np.argsort(values)\n",
    "vals = np.array(values)[order]\n",
    "labs = np.array(labels)[order]\n",
    "fig, ax = plt.subplots()\n",
    "y = np.arange(len(labs))\n",
    "ax.barh(y, vals)\n",
    "for i, v in enumerate(vals):\n",
    "    ax.text(v + max(vals)*0.02, i, f'{v:,.0f}', va='center')\n",
    "ax.set_yticks(y); ax.set_yticklabels(labs)\n",
    "ax.set_xlabel('Sales (USD)')\n",
    "ax.set_title('South leads 2024 regional sales')\n",
    "plt.tight_layout()\n",
    "plt.show()"
   ]
  },
  {
   "cell_type": "markdown",
   "id": "80b38be6",
   "metadata": {},
   "source": [
    "### 7.2 Line — From vague to guided reading (**Bad**)"
   ]
  },
  {
   "cell_type": "code",
   "execution_count": null,
   "id": "93b20874",
   "metadata": {},
   "outputs": [],
   "source": [
    "import numpy as np, matplotlib.pyplot as plt\n",
    "np.random.seed(0)\n",
    "x = np.arange(1,13)\n",
    "y = np.cumsum(np.random.randn(12)) + 10\n",
    "plt.figure()\n",
    "plt.plot(x, y)\n",
    "plt.title('Scores')\n",
    "plt.show()"
   ]
  },
  {
   "cell_type": "markdown",
   "id": "306c03a0",
   "metadata": {},
   "source": [
    "**Fixes:** explicit timeframe, unit/axis label, target band, callout of peak. (**Good**)"
   ]
  },
  {
   "cell_type": "code",
   "execution_count": null,
   "id": "06b3a9b7",
   "metadata": {},
   "outputs": [],
   "source": [
    "import numpy as np, matplotlib.pyplot as plt\n",
    "np.random.seed(0)\n",
    "x = np.arange(1,13)\n",
    "y = np.cumsum(np.random.randn(12)) + 10\n",
    "fig, ax = plt.subplots()\n",
    "ax.plot(x, y, marker='o')\n",
    "\n",
    "ax.axhspan(10, 12, alpha=0.15)\n",
    "ax.text(12.2, 11, 'Target band', va='center')\n",
    "\n",
    "i_max = int(np.argmax(y))\n",
    "ax.annotate('Peak', xy=(x[i_max], y[i_max]),\n",
    "            xytext=(x[i_max]+0.8, y[i_max]+1.5),\n",
    "            arrowprops=dict(arrowstyle='->', lw=1))\n",
    "\n",
    "ax.set_title('Monthly Score vs Target (Jan–Dec 2024)')\n",
    "ax.set_xlabel('Month')\n",
    "ax.set_ylabel('Score')\n",
    "plt.tight_layout()\n",
    "plt.show()"
   ]
  },
  {
   "cell_type": "markdown",
   "id": "173fb178",
   "metadata": {},
   "source": [
    "### 7.3 Table — From messy to readable (**Bad**)"
   ]
  },
  {
   "cell_type": "code",
   "execution_count": null,
   "id": "6b82cfaa",
   "metadata": {},
   "outputs": [],
   "source": [
    "import pandas as pd\n",
    "df = pd.DataFrame({\n",
    "    'Region':['Northeast','Midwest','South','West'],\n",
    "    '2023':[12530000, 9820000, 14200000, 11340000],\n",
    "    '2024':[13480000, 10050000, 15120000, 12310000]\n",
    "})\n",
    "df['delta']=df['2024']-df['2023']\n",
    "df['pct']=df['delta']/df['2023']\n",
    "df"
   ]
  },
  {
   "cell_type": "markdown",
   "id": "00d8ac6c",
   "metadata": {},
   "source": [
    "**Fixes:** sorted for the task, units/precision, aligned numbers, Δ and % change columns, caption. (**Good**)"
   ]
  },
  {
   "cell_type": "code",
   "execution_count": null,
   "id": "57b7b11b",
   "metadata": {},
   "outputs": [],
   "source": [
    "import pandas as pd\n",
    "df = pd.DataFrame({\n",
    "    'Region':['Northeast','Midwest','South','West'],\n",
    "    '2023':[12_530_000, 9_820_000, 14_200_000, 11_340_000],\n",
    "    '2024':[13_480_000, 10_050_000, 15_120_000, 12_310_000]\n",
    "})\n",
    "df['Δ'] = df['2024'] - df['2023']\n",
    "df['% Change'] = df['Δ'] / df['2023']\n",
    "df = df.sort_values('2024', ascending=False).reset_index(drop=True)\n",
    "styled = (\n",
    "    df.style\n",
    "    .format({'2023':'{:,.0f}', '2024':'{:,.0f}', 'Δ':'{:+,.0f}', '% Change':'{:+.1%}'})\n",
    "    .set_caption('Regional Sales, 2023–2024')\n",
    "    .set_table_styles([\n",
    "        {\"selector\":\"th\", \"props\":[(\"text-align\",\"center\")]},\n",
    "        {\"selector\":\"td\", \"props\":[(\"text-align\",\"right\")]}\n",
    "    ])\n",
    ")\n",
    "styled"
   ]
  },
  {
   "cell_type": "code",
   "execution_count": null,
   "id": "2a4348cf",
   "metadata": {},
   "outputs": [],
   "source": [
    "import pandas as pd\n",
    "df = pd.DataFrame({\n",
    "    'Region':['Northeast','Midwest','South','West'],\n",
    "    '2023':[12_530_000, 9_820_000, 14_200_000, 11_340_000],\n",
    "    '2024':[13_480_000, 10_050_000, 15_120_000, 12_310_000]\n",
    "})\n",
    "df['\\u0394'] = df['2024'] - df['2023']\n",
    "df['% Change'] = df['\\u0394'] / df['2023']\n",
    "df = df.sort_values('2024', ascending=False).reset_index(drop=True)\n",
    "print(df.head())\n",
    "styled = (\n",
    "    df.style\n",
    "    .format({'2023':'{:,.0f}', '2024':'{:,.0f}', r'\\u039':'{:+,.0f}', '% Change':'{:+.1%}'})\n",
    "    .set_caption('Regional Sales, 2023–2024')\n",
    "    .set_table_styles([\n",
    "        {\"selector\":\"th\", \"props\":[(\"text-align\",\"center\")]},\n",
    "        {\"selector\":\"td\", \"props\":[(\"text-align\",\"right\")]}\n",
    "    ])\n",
    ")\n",
    "styled"
   ]
  }
 ],
 "metadata": {
  "language_info": {
   "name": "python"
  }
 },
 "nbformat": 4,
 "nbformat_minor": 5
}
