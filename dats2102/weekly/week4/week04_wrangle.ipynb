{
 "cells": [
  {
   "cell_type": "markdown",
   "id": "61bfe12d",
   "metadata": {},
   "source": [
    "# Week 4 — Wrangling with pandas (Starter Notebook)\n",
    "\n",
    "**Datasets:** `nyc_taxi_sample.csv`, `taxi_zones.csv`, `covid_daily.csv`\n",
    "\n",
    "This notebook mirrors the lecture flow: import → inspect → clean → feature engineering → group/reshape → quick visuals."
   ]
  },
  {
   "cell_type": "code",
   "execution_count": 1,
   "id": "07ab2b12",
   "metadata": {},
   "outputs": [],
   "source": [
    "import pandas as pd\n",
    "import numpy as np\n",
    "import matplotlib.pyplot as plt\n",
    "\n",
    "pd.set_option(\"display.max_columns\", 50)\n"
   ]
  },
  {
   "cell_type": "markdown",
   "id": "07d4c433",
   "metadata": {},
   "source": [
    "## 1. Load & Inspect"
   ]
  },
  {
   "cell_type": "code",
   "execution_count": null,
   "id": "1348484f",
   "metadata": {},
   "outputs": [],
   "source": [
    "taxi = pd.read_csv(\"nyc_taxi_sample.csv\",\n",
    "                    parse_dates=[\"tpep_pickup_datetime\",\"tpep_dropoff_datetime\"])\n",
    "zones = pd.read_csv(\"taxi_zones.csv\")\n",
    "covid = pd.read_csv(\"covid_daily.csv\", parse_dates=[\"date\"])\n",
    "\n",
    "display(taxi.head())\n",
    "display(taxi.info())\n",
    "display(zones.head())\n",
    "display(covid.head())"
   ]
  },
  {
   "cell_type": "markdown",
   "id": "b95827b3",
   "metadata": {},
   "source": [
    "## 2. Filter, Missing Values, and Basic Cleaning"
   ]
  },
  {
   "cell_type": "code",
   "execution_count": null,
   "id": "5735e7aa",
   "metadata": {},
   "outputs": [],
   "source": [
    "# Keep trips in reasonable bounds\n",
    "taxi_clean = taxi.copy()\n",
    "taxi_clean = taxi_clean.dropna(subset=[\"trip_distance\"])\n",
    "taxi_clean = taxi_clean[\n",
    "    (taxi_clean[\"trip_distance\"].between(0.1, 60)) &\n",
    "    (taxi_clean[\"fare_amount\"].between(0, 250))\n",
    "].copy()\n",
    "\n",
    "# Feature engineering: hour and weekday\n",
    "taxi_clean[\"pickup_hour\"] = taxi_clean[\"tpep_pickup_datetime\"].dt.hour\n",
    "taxi_clean[\"weekday\"] = taxi_clean[\"tpep_pickup_datetime\"].dt.day_name()\n",
    "\n",
    "# Ordered categoricals for weekday\n",
    "cats = [\"Monday\",\"Tuesday\",\"Wednesday\",\"Thursday\",\"Friday\",\"Saturday\",\"Sunday\"]\n",
    "taxi_clean[\"weekday\"] = pd.Categorical(taxi_clean[\"weekday\"], categories=cats, ordered=True)\n",
    "\n",
    "taxi_clean.head()"
   ]
  },
  {
   "cell_type": "markdown",
   "id": "08608438",
   "metadata": {},
   "source": [
    "## 3. Join with Lookup (borough)"
   ]
  },
  {
   "cell_type": "code",
   "execution_count": null,
   "id": "6284f671",
   "metadata": {},
   "outputs": [],
   "source": [
    "with_boro = taxi_clean.merge(\n",
    "    zones[[\"LocationID\",\"borough\"]],\n",
    "    left_on=\"PULocationID\", right_on=\"LocationID\", how=\"left\", validate=\"m:1\"\n",
    ")\n",
    "with_boro.head()"
   ]
  },
  {
   "cell_type": "markdown",
   "id": "f3a000c3",
   "metadata": {},
   "source": [
    "## 4. GroupBy & Aggregate"
   ]
  },
  {
   "cell_type": "code",
   "execution_count": null,
   "id": "65b7e8c5",
   "metadata": {},
   "outputs": [],
   "source": [
    "by_hour = with_boro.groupby(\"pickup_hour\").agg(\n",
    "    trips=(\"trip_distance\",\"count\"),\n",
    "    mean_dist=(\"trip_distance\",\"mean\"),\n",
    "    mean_fare=(\"fare_amount\",\"mean\")\n",
    ").reset_index()\n",
    "\n",
    "by_weekday = with_boro.groupby(\"weekday\").size().rename(\"trips\")\n",
    "\n",
    "display(by_hour.head())\n",
    "display(by_weekday)"
   ]
  },
  {
   "cell_type": "markdown",
   "id": "5b07bf7b",
   "metadata": {},
   "source": [
    "## 5. Quick Visuals with matplotlib"
   ]
  },
  {
   "cell_type": "code",
   "execution_count": null,
   "id": "7c28f1f8",
   "metadata": {},
   "outputs": [],
   "source": [
    "# Bar: trips by hour\n",
    "ax = by_hour.plot(x=\"pickup_hour\", y=\"trips\", kind=\"bar\")\n",
    "ax.set(title=\"Trips by Pickup Hour\", xlabel=\"Hour\", ylabel=\"Trips\")\n",
    "plt.tight_layout()\n",
    "plt.show()"
   ]
  },
  {
   "cell_type": "code",
   "execution_count": null,
   "id": "87f80f94",
   "metadata": {},
   "outputs": [],
   "source": [
    "# Bar: trips by weekday\n",
    "ax = by_weekday.plot(kind=\"bar\")\n",
    "ax.set(title=\"Trips by Weekday\", xlabel=\"\", ylabel=\"Trips\")\n",
    "plt.tight_layout()\n",
    "plt.show()"
   ]
  },
  {
   "cell_type": "markdown",
   "id": "a5bb54ee",
   "metadata": {},
   "source": [
    "## 6. Reshape to Pivot → Heatmap"
   ]
  },
  {
   "cell_type": "code",
   "execution_count": null,
   "id": "b83ca079",
   "metadata": {},
   "outputs": [],
   "source": [
    "pivot_md = with_boro.pivot_table(\n",
    "    index=\"weekday\", columns=\"pickup_hour\",\n",
    "    values=\"trip_distance\", aggfunc=\"mean\"\n",
    ")\n",
    "\n",
    "plt.imshow(pivot_md.values, aspect=\"auto\")\n",
    "plt.xticks(range(pivot_md.shape[1]), pivot_md.columns)\n",
    "plt.yticks(range(pivot_md.shape[0]), pivot_md.index)\n",
    "plt.title(\"Mean Trip Distance (mi) by Weekday × Hour\")\n",
    "plt.colorbar(label=\"Miles\")\n",
    "plt.tight_layout()\n",
    "plt.show()"
   ]
  },
  {
   "cell_type": "markdown",
   "id": "3e6a0b93",
   "metadata": {},
   "source": [
    "## 7. COVID-19 (NY) Resampling & Rolling"
   ]
  },
  {
   "cell_type": "code",
   "execution_count": null,
   "id": "221a5864",
   "metadata": {},
   "outputs": [],
   "source": [
    "state = covid[covid[\"state\"]==\"NY\"].set_index(\"date\").sort_index()\n",
    "state[\"new_cases\"] = state[\"cases\"].diff()\n",
    "\n",
    "weekly = state[\"new_cases\"].resample(\"W-SUN\").sum()\n",
    "rolling = state[\"new_cases\"].rolling(7, min_periods=1).mean()\n",
    "\n",
    "ax = weekly.plot()\n",
    "ax.set(title=\"NY New Cases (Weekly Sum)\", ylabel=\"Cases\")\n",
    "plt.tight_layout()\n",
    "plt.show()\n",
    "\n",
    "ax = rolling.plot()\n",
    "ax.set(title=\"NY New Cases (7-Day Rolling Mean)\", ylabel=\"Cases\")\n",
    "plt.tight_layout()\n",
    "plt.show()"
   ]
  },
  {
   "cell_type": "markdown",
   "id": "bab2efa6",
   "metadata": {},
   "source": [
    "## 8. Mini‑Challenge\n",
    "**Compute mean fare by borough × hour** and visualize as a heatmap.\n",
    "\n",
    "Steps:\n",
    "1) Group & aggregate to mean fare.\n",
    "2) Pivot to borough rows × hour columns.\n",
    "3) Plot with `plt.imshow`.\n"
   ]
  },
  {
   "cell_type": "code",
   "execution_count": null,
   "id": "ff9818fa",
   "metadata": {},
   "outputs": [],
   "source": [
    "# Your work here\n",
    "mean_fare = \"try it here\"\n",
    "pivot_fare = \"try it here\"\n",
    "\n",
    "plt.imshow(pivot_fare.values, aspect=\"auto\")\n",
    "plt.xticks(range(pivot_fare.shape[1]), pivot_fare.columns)\n",
    "plt.yticks(range(pivot_fare.shape[0]), pivot_fare.index)\n",
    "plt.title(\"Mean Fare ($) by Borough × Hour\")\n",
    "plt.colorbar(label=\"$\")\n",
    "plt.tight_layout()\n",
    "plt.show()"
   ]
  },
  {
   "cell_type": "markdown",
   "id": "8f78a39f",
   "metadata": {},
   "source": [
    "## 9. Homework Scaffold\n",
    "- Choose a messy dataset (or continue with taxi / covid).\n",
    "- Demonstrate **groupby aggregate** and **reshaping**.\n",
    "- Include either **time resampling/rolling** or **ordered categoricals**.\n",
    "- Produce three well‑labeled charts.\n"
   ]
  },
  {
   "cell_type": "code",
   "execution_count": 11,
   "id": "3b09bdc3",
   "metadata": {},
   "outputs": [],
   "source": [
    "# Template cell for your homework\n",
    "# df = pd.read_csv(\"/mnt/data/your_dataset.csv\", parse_dates=[...])\n",
    "# 1) Clean\n",
    "# 2) Feature engineer\n",
    "# 3) Group/reshape\n",
    "# 4) Visualize (matplotlib)\n"
   ]
  }
 ],
 "metadata": {
  "kernelspec": {
   "display_name": "Python 3 (ipykernel)",
   "language": "python",
   "name": "python3"
  },
  "language_info": {
   "codemirror_mode": {
    "name": "ipython",
    "version": 3
   },
   "file_extension": ".py",
   "mimetype": "text/x-python",
   "name": "python",
   "nbconvert_exporter": "python",
   "pygments_lexer": "ipython3",
   "version": "3.12.11"
  }
 },
 "nbformat": 4,
 "nbformat_minor": 5
}
