{
 "cells": [
  {
   "cell_type": "raw",
   "id": "0f8d4794-6835-4fc3-9b85-7e7d27c17c4a",
   "metadata": {},
   "source": [
    "---\n",
    "title: \"Week 4 hands-on session\"\n",
    "date: '2025-09-18'\n",
    "author: \n",
    "    - name: Junjun Yin\n",
    "      email: j.yin@gwu.edu\n",
    "      affiliation:\n",
    "        - name: George Washington University\n",
    "          city: Washington, DC\n",
    "format:\n",
    "    html:\n",
    "        code-fold: false\n",
    "jupyter: python3\n",
    "execute:\n",
    "    echo: true\n",
    "standalone: true\n",
    "---"
   ]
  },
  {
   "cell_type": "markdown",
   "id": "c94d1afc",
   "metadata": {},
   "source": [
    "# Week 4 — Session 2 (Hands‑On): Wrangling with pandas"
   ]
  },
  {
   "cell_type": "markdown",
   "id": "284f668f",
   "metadata": {},
   "source": [
    "This notebook covers:\n",
    "- NYC Taxi wrangling pipeline\n",
    "- COVID-19 time series wrangling\n",
    "- Mini-challenge\n"
   ]
  },
  {
   "cell_type": "markdown",
   "id": "a11c739e",
   "metadata": {},
   "source": [
    "## Setup"
   ]
  },
  {
   "cell_type": "code",
   "execution_count": null,
   "id": "ba13bd3f",
   "metadata": {},
   "outputs": [],
   "source": [
    "import pandas as pd\n",
    "import matplotlib.pyplot as plt\n",
    "# pd.set_option(\"display.max_columns\", 50)"
   ]
  },
  {
   "cell_type": "markdown",
   "id": "47f09a69",
   "metadata": {},
   "source": [
    "## 1. NYC Taxi Wrangling Pipeline\n",
    "Download the NYC data from the website: https://www.nyc.gov/site/tlc/about/tlc-trip-record-data.page  \n",
    "We will use yellow taxi data fror January, 2024"
   ]
  },
  {
   "cell_type": "code",
   "execution_count": null,
   "id": "12ad9a6a-47dc-4b58-b4dd-954e516d5485",
   "metadata": {},
   "outputs": [],
   "source": [
    "taxi = pd.read_parquet(\"~/Desktop/Week4_classroom/yellow_tripdata_2024-01.parquet\")\n",
    "\n",
    "print(taxi.shape)\n",
    "taxi.head()\n"
   ]
  },
  {
   "cell_type": "code",
   "execution_count": null,
   "id": "d25f3ddd-f630-413e-8ff2-b27fd2ef2376",
   "metadata": {},
   "outputs": [],
   "source": [
    "taxi.to_csv(\"yellow_tripdata_2024-01.tsv\", sep= \"\\t\", index=False)"
   ]
  },
  {
   "cell_type": "code",
   "execution_count": null,
   "id": "8857d346-88e3-40cf-82c7-670bd1dcdc71",
   "metadata": {},
   "outputs": [],
   "source": [
    "taxi = pd.read_csv(\"yellow_tripdata_2024-01.tsv\", sep= \"\\t\", parse_dates=[\"tpep_pickup_datetime\",\"tpep_dropoff_datetime\"])"
   ]
  },
  {
   "cell_type": "code",
   "execution_count": null,
   "id": "feeae220-4d73-4f5d-80b6-2c32fd174e4e",
   "metadata": {},
   "outputs": [],
   "source": [
    "taxi.columns[6]"
   ]
  },
  {
   "cell_type": "code",
   "execution_count": null,
   "id": "c7d1d661-de23-4d4a-addd-6662c2269d88",
   "metadata": {},
   "outputs": [],
   "source": [
    "taxi = pd.read_csv(\"yellow_tripdata_2024-01.tsv\", sep= \"\\t\", parse_dates=[\"tpep_pickup_datetime\",\"tpep_dropoff_datetime\"], dtype={\"store_and_fwd_flag\": str})"
   ]
  },
  {
   "cell_type": "code",
   "execution_count": null,
   "id": "4347afc8-24ef-40fa-af6a-e84da65a1e71",
   "metadata": {},
   "outputs": [],
   "source": [
    "print(taxi.shape)\n",
    "taxi.head()"
   ]
  },
  {
   "cell_type": "code",
   "execution_count": null,
   "id": "4f459e7b",
   "metadata": {},
   "outputs": [],
   "source": [
    "# Clean & feature engineering\n",
    "taxi_clean = taxi.dropna(subset=[\"trip_distance\"])\n",
    "taxi_clean = taxi_clean[(taxi_clean.trip_distance.between(2,60)) & (taxi_clean.fare_amount.between(10,250))]\n",
    "taxi_clean[\"pickup_hour\"] = taxi_clean[\"tpep_pickup_datetime\"].dt.hour\n",
    "taxi_clean[\"weekday\"] = taxi_clean[\"tpep_pickup_datetime\"].dt.day_name()\n"
   ]
  },
  {
   "cell_type": "code",
   "execution_count": null,
   "id": "a3cf314b-8dad-42ed-b219-935fd4ca601d",
   "metadata": {},
   "outputs": [],
   "source": [
    "weekday_order = [\"Monday\",\"Tuesday\",\"Wednesday\",\"Thursday\",\"Friday\",\"Saturday\",\"Sunday\"]\n",
    "taxi_clean[\"weekday\"] = pd.Categorical(taxi_clean[\"weekday\"], categories=weekday_order, ordered=True)\n",
    "\n",
    "taxi_clean.head()"
   ]
  },
  {
   "cell_type": "markdown",
   "id": "4e14d38d-1b17-457c-b47a-4ccd87fccc31",
   "metadata": {},
   "source": [
    "## seeking additional information, in this case, the Borough in New York City"
   ]
  },
  {
   "cell_type": "code",
   "execution_count": null,
   "id": "1ab5bd9a-5435-4bc8-a1cd-f96456f66788",
   "metadata": {},
   "outputs": [],
   "source": [
    "import geopandas as gpd\n",
    "import matplotlib.pyplot as plt\n",
    "\n",
    "gdf = gpd.read_file('taxi_zones/taxi_zones.shp')\n",
    "fig, ax = plt.subplots(1, 1, figsize=(10, 10))\n",
    "\n",
    "\n",
    "gdf.plot(ax=ax, color='lightgray', edgecolor='black')\n",
    "\n",
    "plt.axis('off')\n",
    "plt.show()\n",
    "\n",
    "gdf.plot()"
   ]
  },
  {
   "cell_type": "code",
   "execution_count": null,
   "id": "5a5f7cdf-a779-4506-8055-b9b5f4940224",
   "metadata": {},
   "outputs": [],
   "source": [
    "import geopandas as gpd\n",
    "import matplotlib.pyplot as plt\n",
    "\n",
    "gdf = gpd.read_file('taxi_zones/taxi_zones.shp')\n",
    "fig, ax = plt.subplots(1, 1, figsize=(10, 10))\n",
    "gdf.plot(ax=ax, color='lightgray', edgecolor='black')\n",
    "\n",
    "# gdf.plot()\n",
    "\n",
    "# Replace 'label_column' with the name of the column containing your labels\n",
    "for idx, row in gdf.iterrows():\n",
    "    # Get the centroid of the geometry for label placement\n",
    "    # For Point geometries, use row.geometry.x, row.geometry.y\n",
    "    # For Polygon/LineString geometries, use row.geometry.centroid.x, row.geometry.centroid.y\n",
    "    x, y = row.geometry.centroid.x, row.geometry.centroid.y\n",
    "    # Add the label\n",
    "    ax.annotate(text=row['borough'], xy=(x, y), horizontalalignment='center', fontsize=8, color='darkblue')\n",
    "\n",
    "plt.axis('off')\n",
    "plt.show()"
   ]
  },
  {
   "cell_type": "code",
   "execution_count": null,
   "id": "04e984af-dd0a-4b41-a12b-05adcdc0d62a",
   "metadata": {},
   "outputs": [],
   "source": [
    "zones = pd.read_csv(\"taxi_zone_lookup.csv\")\n",
    "zones.head()"
   ]
  },
  {
   "cell_type": "code",
   "execution_count": null,
   "id": "ce7808a7-edd8-4bd3-a235-8d90041ff93b",
   "metadata": {},
   "outputs": [],
   "source": [
    "zones['Borough'].unique()"
   ]
  },
  {
   "cell_type": "code",
   "execution_count": null,
   "id": "15c8a721-5a5c-404a-95d6-956697f01ead",
   "metadata": {},
   "outputs": [],
   "source": []
  },
  {
   "cell_type": "code",
   "execution_count": null,
   "id": "4c06c144",
   "metadata": {},
   "outputs": [],
   "source": [
    "# Join with the borough\n",
    "with_boro = taxi_clean.merge(zones[[\"LocationID\",\"Borough\"]], left_on=\"PULocationID\", right_on=\"LocationID\", how=\"left\")\n",
    "with_boro.head()"
   ]
  },
  {
   "cell_type": "code",
   "execution_count": null,
   "id": "276bf43a-baf0-447a-ba29-6fd08bc3d398",
   "metadata": {},
   "outputs": [],
   "source": [
    "with_boro = taxi_clean.merge(zones[[\"LocationID\",\"Borough\", \"Zone\"]], left_on=\"PULocationID\", right_on=\"LocationID\", how=\"left\")\n",
    "with_boro.head()"
   ]
  },
  {
   "cell_type": "markdown",
   "id": "6fcd5867-4d01-404d-a299-2eb9a8d87858",
   "metadata": {},
   "source": [
    "**filter data based on Borough information**"
   ]
  },
  {
   "cell_type": "code",
   "execution_count": null,
   "id": "20c687a9-7e4a-41c1-a47f-fb3fd1fc6893",
   "metadata": {},
   "outputs": [],
   "source": [
    "nyc_boroughs = ['Queens', 'Manhattan', 'Brooklyn', 'Bronx']\n",
    "\n",
    "\n",
    "with_boro = with_boro[with_boro['Borough'].isin(nyc_boroughs)]\n",
    "\n",
    "print(with_boro.shape)\n",
    "with_boro.head()\n",
    "\n"
   ]
  },
  {
   "cell_type": "markdown",
   "id": "78404329-8176-477c-80e4-031dae656c76",
   "metadata": {},
   "source": [
    "## GroupBy function"
   ]
  },
  {
   "cell_type": "code",
   "execution_count": null,
   "id": "ed0311df",
   "metadata": {},
   "outputs": [],
   "source": [
    "# Group & summarize\n",
    "by_hour = with_boro.groupby(\"pickup_hour\").agg(trips=(\"trip_distance\",\"count\")).reset_index()\n",
    "by_weekday = with_boro.groupby(\"weekday\").size().rename(\"trips\")\n",
    "by_hour.head(), by_weekday"
   ]
  },
  {
   "cell_type": "code",
   "execution_count": null,
   "id": "5aa1c454",
   "metadata": {},
   "outputs": [],
   "source": [
    "# Visualize\n",
    "by_hour.plot(x=\"pickup_hour\", y=\"trips\", kind=\"bar\", title=\"Trips by Hour\")\n",
    "plt.show()\n"
   ]
  },
  {
   "cell_type": "code",
   "execution_count": null,
   "id": "fc9e9d95-d01e-4175-bc64-aad3db4b6aed",
   "metadata": {},
   "outputs": [],
   "source": [
    "by_weekday.plot(kind=\"bar\", title=\"Trips by Weekday\")\n",
    "plt.show()"
   ]
  },
  {
   "cell_type": "markdown",
   "id": "c723e6a2",
   "metadata": {},
   "source": [
    "### Heatmap of mean trip distance by weekday × hour"
   ]
  },
  {
   "cell_type": "code",
   "execution_count": null,
   "id": "b2edad07",
   "metadata": {},
   "outputs": [],
   "source": [
    "pivot_md = with_boro.pivot_table(index=\"weekday\", columns=\"pickup_hour\", values=\"trip_distance\", aggfunc=\"mean\")\n",
    "plt.imshow(pivot_md.values, aspect=\"auto\")\n",
    "plt.xticks(range(pivot_md.shape[1]), pivot_md.columns)\n",
    "plt.yticks(range(pivot_md.shape[0]), pivot_md.index)\n",
    "plt.colorbar(label=\"Miles\")\n",
    "plt.title(\"Mean Trip Distance by Weekday × Hour\")\n",
    "plt.show()"
   ]
  },
  {
   "cell_type": "markdown",
   "id": "d6199a8c-c34a-4745-9f6c-e0d2831d8e79",
   "metadata": {},
   "source": [
    "**One step further with population**"
   ]
  },
  {
   "cell_type": "code",
   "execution_count": null,
   "id": "e19c4059-0a42-4c12-9033-efbb915f6619",
   "metadata": {},
   "outputs": [],
   "source": [
    "pop = pd.read_csv(\"nyc_population_2024.csv\")\n",
    "pop.head()"
   ]
  },
  {
   "cell_type": "code",
   "execution_count": null,
   "id": "964166d4-905e-4b5a-bbc7-2989c912072c",
   "metadata": {},
   "outputs": [],
   "source": [
    "with_boro_pop = pd.merge(with_boro, pop, on='Borough', how='left')\n",
    "with_boro_pop.head()"
   ]
  },
  {
   "cell_type": "code",
   "execution_count": null,
   "id": "64bd0928-5a22-410d-9d7b-aa3867eeafad",
   "metadata": {},
   "outputs": [],
   "source": [
    "by_hour = (\n",
    "    with_boro_pop.groupby([\"pickup_hour\", \"Borough\"], as_index=False)\n",
    "    .agg({\"passenger_count\": \"sum\", \"pop\": \"first\"})  # pop is constant per borough\n",
    ")\n",
    "\n",
    "# Normalize by borough population\n",
    "by_hour[\"passenger_per_capita\"] = result[\"passenger_count\"] / result[\"pop\"]\n",
    "\n",
    "print(by_hour.head())"
   ]
  },
  {
   "cell_type": "code",
   "execution_count": null,
   "id": "05c3939a-6578-4b0c-8d7a-afca10218fd9",
   "metadata": {},
   "outputs": [],
   "source": [
    "import seaborn as sns\n",
    "import matplotlib.pyplot as plt\n",
    "\n",
    "plt.figure(figsize=(10,6))\n",
    "sns.lineplot(\n",
    "    data=result,\n",
    "    x=\"pickup_hour\",\n",
    "    y=\"passenger_per_capita\",\n",
    "    hue=\"Borough\",\n",
    "    marker=\"o\"\n",
    ")\n",
    "\n",
    "plt.title(\"Per-Capita Taxi Passengers by Hour and Borough (2024)\")\n",
    "plt.xlabel(\"Pickup Hour\")\n",
    "plt.ylabel(\"Passengers per Capita\")\n",
    "plt.xticks(range(0,24))\n",
    "plt.grid(True, linestyle=\"--\", alpha=0.6)\n",
    "plt.show()\n"
   ]
  },
  {
   "cell_type": "code",
   "execution_count": null,
   "id": "dc8bb681-4784-4a26-bffb-f985525a786d",
   "metadata": {},
   "outputs": [],
   "source": [
    "weekday_result = (\n",
    "    with_boro_pop.groupby([\"weekday\", \"Borough\"], as_index=False)\n",
    "    .agg({\"passenger_count\": \"sum\", \"pop\": \"first\"})\n",
    ")\n",
    "\n",
    "# Normalize by borough population\n",
    "weekday_result[\"passenger_per_capita\"] = weekday_result[\"passenger_count\"] / weekday_result[\"pop\"]\n",
    "\n",
    "print(weekday_result.head())"
   ]
  },
  {
   "cell_type": "code",
   "execution_count": null,
   "id": "a03a80d2-ac50-44eb-ad3a-f85e25145192",
   "metadata": {},
   "outputs": [],
   "source": [
    "import seaborn as sns\n",
    "import matplotlib.pyplot as plt\n",
    "\n",
    "plt.figure(figsize=(10,6))\n",
    "sns.barplot(\n",
    "    data=weekday_result,\n",
    "    x=\"weekday\",\n",
    "    y=\"passenger_per_capita\",\n",
    "    hue=\"Borough\"\n",
    ")\n",
    "\n",
    "plt.title(\"Per-Capita Taxi Passengers by Weekday and Borough (2024)\")\n",
    "plt.xlabel(\"Weekday\")\n",
    "plt.ylabel(\"Passengers per Capita\")\n",
    "plt.legend(title=\"Borough\")\n",
    "plt.grid(axis=\"y\", linestyle=\"--\", alpha=0.6)\n",
    "plt.show()\n"
   ]
  },
  {
   "cell_type": "code",
   "execution_count": null,
   "id": "ddad0a99-c91c-4ee8-afbc-a2cbcd4eaf85",
   "metadata": {},
   "outputs": [],
   "source": [
    "import seaborn as sns\n",
    "import matplotlib.pyplot as plt\n",
    "\n",
    "# Ensure weekday order\n",
    "# order = [\"Monday\",\"Tuesday\",\"Wednesday\",\"Thursday\",\"Friday\",\"Saturday\",\"Sunday\"]\n",
    "# weekday_result[\"weekday\"] = pd.Categorical(\n",
    "#     weekday_result[\"weekday\"], categories=order, ordered=True\n",
    "# )\n",
    "\n",
    "# Pivot to have boroughs as rows, weekdays as columns\n",
    "heatmap_data = weekday_result.pivot(index=\"Borough\", columns=\"weekday\", values=\"passenger_per_capita\")\n"
   ]
  },
  {
   "cell_type": "code",
   "execution_count": null,
   "id": "08dc76cf-37cb-42ae-aefc-72dbbfd913c6",
   "metadata": {},
   "outputs": [],
   "source": [
    "plt.figure(figsize=(10,6))\n",
    "sns.heatmap(\n",
    "    heatmap_data,\n",
    "    annot=True, fmt=\".6f\", cmap=\"RdBu\", linewidths=0.5, cbar_kws={'label': 'Passengers per Capita'}\n",
    ")\n",
    "\n",
    "plt.title(\"Per-Capita Taxi Passengers by Weekday and Borough (2024)\")\n",
    "plt.xlabel(\"Weekday\")\n",
    "plt.ylabel(\"Borough\")\n",
    "plt.show()\n"
   ]
  },
  {
   "cell_type": "code",
   "execution_count": null,
   "id": "0b538313-c168-4fa5-acac-af78191c402b",
   "metadata": {},
   "outputs": [],
   "source": [
    "# Pivot to create heatmap table\n",
    "heatmap_hourly = by_hour.pivot(\n",
    "    index=\"Borough\", \n",
    "    columns=\"pickup_hour\", \n",
    "    values=\"passenger_per_capita\"\n",
    ")\n"
   ]
  },
  {
   "cell_type": "code",
   "execution_count": null,
   "id": "191e567b-e54f-49de-8491-f1f3955dc4ea",
   "metadata": {},
   "outputs": [],
   "source": [
    "import seaborn as sns\n",
    "import matplotlib.pyplot as plt\n",
    "\n",
    "plt.figure(figsize=(14,6))\n",
    "sns.heatmap(\n",
    "    heatmap_hourly,\n",
    "    annot=False, cmap=\"coolwarm\", linewidths=0.5, cbar_kws={'label': 'Passengers per Capita'}\n",
    ")\n",
    "\n",
    "plt.title(\"Per-Capita Taxi Passengers by Hour and Borough (2024)\")\n",
    "plt.xlabel(\"Pickup Hour\")\n",
    "plt.ylabel(\"Borough\")\n",
    "plt.xticks(rotation=0)\n",
    "plt.show()\n"
   ]
  },
  {
   "cell_type": "markdown",
   "id": "986a6389-a6ca-4bf8-9a0c-f5f7b142bc46",
   "metadata": {},
   "source": [
    "Color palettes: Seaborn: https://seaborn.pydata.org/tutorial/color_palettes.html  \n",
    "matlibplot: https://matplotlib.org/stable/users/explain/colors/colormaps.html\n"
   ]
  },
  {
   "cell_type": "markdown",
   "id": "f3f05c2a",
   "metadata": {},
   "source": [
    "## 2. COVID‑19 Time Series Wrangling"
   ]
  },
  {
   "cell_type": "code",
   "execution_count": null,
   "id": "23fc4779",
   "metadata": {},
   "outputs": [],
   "source": [
    "covid = pd.read_csv(\"covid_daily.csv\", parse_dates=[\"date\"])\n",
    "ny = covid[covid.state==\"NY\"].set_index(\"date\").sort_index()\n",
    "ny[\"new_cases\"] = ny[\"cases\"].diff()\n",
    "weekly = ny[\"new_cases\"].resample(\"W-SUN\").sum()\n",
    "rolling = ny[\"new_cases\"].rolling(7, min_periods=1).mean()\n",
    "weekly.plot(title=\"NY New Cases Weekly Sum\")\n",
    "plt.show()\n",
    "rolling.plot(title=\"NY New Cases 7-day Rolling Mean\")\n",
    "plt.show()"
   ]
  },
  {
   "cell_type": "code",
   "execution_count": null,
   "id": "4060c0b4-f873-41fd-bfda-2b1d3d7c81f1",
   "metadata": {},
   "outputs": [],
   "source": [
    "import pandas as pd\n",
    "import seaborn as sns\n",
    "import matplotlib.pyplot as plt\n",
    "\n",
    "# --- 1) Load and filter NY data ---\n",
    "covid = pd.read_csv(\"covid_daily.csv\", parse_dates=[\"date\"])\n",
    "ny = (covid[covid[\"state\"] == \"NY\"]\n",
    "      .set_index(\"date\")\n",
    "      .sort_index())\n",
    "\n",
    "# Daily new cases from cumulative\n",
    "ny[\"new_cases\"] = ny[\"cases\"].diff()\n",
    "\n",
    "# --- 2) Compute weekly sum ---\n",
    "weekly = ny[\"new_cases\"].resample(\"W-SUN\").sum().reset_index()\n",
    "weekly.columns = [\"date\", \"weekly_cases\"]\n",
    "\n",
    "# --- 3) Compute 7-day rolling mean ---\n",
    "rolling = ny[\"new_cases\"].rolling(7, min_periods=1).mean().reset_index()\n",
    "rolling.columns = [\"date\", \"rolling_mean\"]\n",
    "\n",
    "# --- 4) Plot weekly sum ---\n",
    "plt.figure(figsize=(12,6))\n",
    "sns.lineplot(data=weekly, x=\"date\", y=\"weekly_cases\", marker=\"o\", color=\"steelblue\")\n",
    "plt.title(\"NY New COVID-19 Cases: Weekly Sum\")\n",
    "plt.xlabel(\"Date\")\n",
    "plt.ylabel(\"Weekly New Cases\")\n",
    "plt.xticks(rotation=45)\n",
    "plt.tight_layout()\n",
    "plt.show()\n",
    "\n",
    "# --- 5) Plot rolling mean ---\n",
    "plt.figure(figsize=(12,6))\n",
    "sns.lineplot(data=rolling, x=\"date\", y=\"rolling_mean\", color=\"darkorange\")\n",
    "plt.title(\"NY New COVID-19 Cases: 7-day Rolling Mean\")\n",
    "plt.xlabel(\"Date\")\n",
    "plt.ylabel(\"Daily New Cases (7-day avg)\")\n",
    "plt.xticks(rotation=45)\n",
    "plt.tight_layout()\n",
    "plt.show()\n"
   ]
  },
  {
   "cell_type": "markdown",
   "id": "5a3c2397",
   "metadata": {},
   "source": [
    "## 3. Mini‑Challenge"
   ]
  },
  {
   "cell_type": "code",
   "execution_count": null,
   "id": "3ea70e97",
   "metadata": {},
   "outputs": [],
   "source": [
    "# Mean fare by borough × hour\n",
    "mean_fare = ???\n",
    "pivot_fare = ???\n",
    "plt.imshow(pivot_fare.values, aspect=\"auto\")\n",
    "plt.xticks(range(pivot_fare.shape[1]), pivot_fare.columns)\n",
    "plt.yticks(range(pivot_fare.shape[0]), pivot_fare.index)\n",
    "plt.colorbar(label=\"$\")\n",
    "plt.title(\"Mean Fare by Borough × Hour\")\n",
    "plt.show()"
   ]
  },
  {
   "cell_type": "code",
   "execution_count": null,
   "id": "63655439",
   "metadata": {},
   "outputs": [],
   "source": [
    "# Bonus: trips by passenger count\n",
    "by_passengers = ??\n",
    "by_passengers.plot(kind=\"bar\", title=\"Trips by Passenger Count\")\n",
    "plt.show()"
   ]
  },
  {
   "cell_type": "code",
   "execution_count": null,
   "id": "5ca0a019-bfe8-400b-b45d-4b9f71f44577",
   "metadata": {},
   "outputs": [],
   "source": []
  }
 ],
 "metadata": {
  "kernelspec": {
   "display_name": "Python 3 (ipykernel)",
   "language": "python",
   "name": "python3"
  },
  "language_info": {
   "codemirror_mode": {
    "name": "ipython",
    "version": 3
   },
   "file_extension": ".py",
   "mimetype": "text/x-python",
   "name": "python",
   "nbconvert_exporter": "python",
   "pygments_lexer": "ipython3",
   "version": "3.12.11"
  }
 },
 "nbformat": 4,
 "nbformat_minor": 5
}
